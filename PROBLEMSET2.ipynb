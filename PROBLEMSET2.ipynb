{
 "cells": [
  {
   "cell_type": "markdown",
   "metadata": {},
   "source": [
    "# Question 1\n",
    "Consider the following Python module:\n",
    "a = 0\n",
    "def b():\n",
    "global a\n",
    "a = c(a)\n",
    "def c(a):\n",
    "return a + 2\n",
    "After importing the module into the interpreter, you execute:\n",
    "1. b()\n",
    "2. b()\n",
    "3. b()\n",
    "4. a\n",
    "5. ?\n",
    "\n",
    "What value is displayed when the last expression (a) is evaluated? Explain your answer by indicating what happens in every executed statement."
   ]
  },
  {
   "cell_type": "code",
   "execution_count": 1,
   "metadata": {},
   "outputs": [
    {
     "data": {
      "text/plain": [
       "6"
      ]
     },
     "execution_count": 1,
     "metadata": {},
     "output_type": "execute_result"
    }
   ],
   "source": [
    "a = 0\n",
    "def b():\n",
    "    global a\n",
    "    a = c(a)\n",
    "def c(a):\n",
    "    return a + 2\n",
    "b() #this will go to the b() and it will call the c(a) function and returns the value 2 as a=0; a+2 =2\n",
    "b() #this will again go to the b() and it will call the c(a) function and returns the value 4 as a=2; a+2 =4\n",
    "b() #this will again go to the b() and it will call the c(a) function and returns the value 6 as a=4; a+2 =6\n",
    "a # this will print the value of 'a' as '6' after callig the b() three times"
   ]
  },
  {
   "cell_type": "markdown",
   "metadata": {},
   "source": [
    "# Question 2 \n",
    "Function fileLength(), given to you, takes the name of a file as input and returns the length of the file: \n",
    "\n",
    "\n",
    "    fileLength('midterm.py') \n",
    "        284 \n",
    "    fileLength('idterm.py') \n",
    "\n",
    "Traceback (most recent call last): File \"<pyshell#34>\", line 1, in <module> fileLength('idterm.py') File \"/Users/me/midterm.py\", line 3, in fileLength infile = open(filename) \n",
    "    FileNotFoundError: [Errno 2] No such file or directory: 'idterm.py'\n",
    "\n",
    "    \n",
    "As shown above, if the file cannot be found by the interpreter or if it cannot be read as a text file, an exception will be raised. Modify function fileLength() so that a friendly message is printed instead: \n",
    "    \n",
    "    fileLength('midterm.py') \n",
    "        358\n",
    "    fileLength('idterm.py') \n",
    "        File idterm.py not found."
   ]
  },
  {
   "cell_type": "code",
   "execution_count": 2,
   "metadata": {},
   "outputs": [
    {
     "name": "stdout",
     "output_type": "stream",
     "text": [
      "17206\n",
      "File test112233.py not found.\n"
     ]
    }
   ],
   "source": [
    "import os\n",
    "def fileLength(file_name):\n",
    "    try:\n",
    "        length = os.path.getsize(file_name)\n",
    "        return length\n",
    "    except FileNotFoundError:\n",
    "        return \"File \"+file_name+\" not found.\"\n",
    "print(fileLength(\"ASSIGNMENT1.ipynb\"))   \n",
    "print(fileLength(\"test112233.py\"))"
   ]
  },
  {
   "cell_type": "markdown",
   "metadata": {},
   "source": [
    "# QUESTION 3\n",
    "Write a class named Marsupial that can be used as shown below: \n",
    "\n",
    "    m = Marsupial() \n",
    "    m.put_in_pouch('doll') \n",
    "    m.put_in_pouch('firetruck') \n",
    "    m.put_in_pouch('kitten')\n",
    "    m.pouch_contents() \n",
    "    \n",
    "        ['doll', 'firetruck', 'kitten']\n",
    "        \n",
    "Now write a class named Kangaroo as a subclass of Marsupial that inherits all the attributes of Marsupial and also:\n",
    "\n",
    "a. extends the Marsupial __init__ constructor to take, as input, the coordinates x and y of the Kangaroo object\n",
    "\n",
    "b. supports method jump that takes number values dx and dy as input and moves the kangaroo by dx units along the x-axis and by dy units along the y-axis, and\n",
    "\n",
    "c. overloads the __str__ operator so it behaves as shown below.\n",
    "\n",
    "    k = Kangaroo(0,0)  \n",
    "    print(k) \n",
    "        I am a Kangaroo located at coordinates (0,0)  \n",
    "    k.put_in_pouch('doll')  \n",
    "    k.put_in_pouch('firetruck') \n",
    "    k.put_in_pouch('kitten')  \n",
    "    k.pouch_contents() \n",
    "        ['doll', 'firetruck', 'kitten']  \n",
    "    k.jump(1,0)  \n",
    "    k.jump(1,0)  \n",
    "    k.jump(1,0)  \n",
    "    print(k) \n",
    "        I am a Kangaroo located at coordinates (3,0)"
   ]
  },
  {
   "cell_type": "code",
   "execution_count": 3,
   "metadata": {},
   "outputs": [
    {
     "name": "stdout",
     "output_type": "stream",
     "text": [
      "['doll', 'firetruck', 'kitten']\n",
      "\n",
      "I am a Kangaroo located at coordinates (0,0)\n",
      "\n",
      "['doll', 'firetruck', 'kitten']\n",
      "\n",
      "I am a Kangaroo located at coordinates (3,0)\n"
     ]
    }
   ],
   "source": [
    "class Marsupial(object): #creating a class called 'Marsupial'\n",
    "    def __init__(self): #Allow the class to initialize the attributes of a class\n",
    "        self.list = []\n",
    "    def put_in_pouch(self, value): #Adds the value into the self list whe the constructor is called\n",
    "        self.list.append(value)\n",
    "    def pouch_contents(self):\n",
    "        return self.list\n",
    "\n",
    "class Kangaroo(Marsupial):\n",
    "    def __init__(self,x,y):\n",
    "        Marsupial.__init__(self)\n",
    "        self.x = x\n",
    "        self.y = y\n",
    "    def jump(self,dx,dy):\n",
    "        self.x += dx\n",
    "        self.y += dy\n",
    "    def __str__(self):\n",
    "        return 'I am a Kangaroo located at coordinates ({},{})'.format(self.x,self.y)\n",
    "\n",
    "\n",
    "m = Marsupial()\n",
    "m.put_in_pouch('doll')\n",
    "m.put_in_pouch('firetruck')\n",
    "m.put_in_pouch('kitten')\n",
    "print(m.pouch_contents())\n",
    "print()\n",
    "k = Kangaroo(0,0)\n",
    "print(k)\n",
    "print()\n",
    "k.put_in_pouch('doll')\n",
    "k.put_in_pouch('firetruck')\n",
    "k.put_in_pouch('kitten')\n",
    "print(k.pouch_contents())\n",
    "print()\n",
    "k.jump(1,0)\n",
    "k.jump(1,0)\n",
    "k.jump(1,0)\n",
    "print(k)"
   ]
  },
  {
   "cell_type": "markdown",
   "metadata": {},
   "source": [
    "# Question 4\n",
    "Write function collatz() that takes a positive integer x as input and prints the Collatz sequence starting at x. A Collatz sequence is obtained by repeatedly applying this rule to the previous number x in the sequence:\n",
    "\n",
    "    x = { 𝑥/2 𝑖𝑓 𝑥 𝑖𝑠 𝑒𝑣𝑒𝑛\n",
    "          3𝑥+1 𝑖𝑓 𝑥 𝑖𝑠 𝑜𝑑𝑑\n",
    "Your function should stop when the sequence gets to number 1. Your implementation must be recursive, without any loops."
   ]
  },
  {
   "cell_type": "code",
   "execution_count": 4,
   "metadata": {},
   "outputs": [
    {
     "name": "stdout",
     "output_type": "stream",
     "text": [
      "1 \n",
      "\n",
      "10\n",
      "5\n",
      "16\n",
      "8\n",
      "4\n",
      "2\n",
      "1 \n",
      "\n"
     ]
    }
   ],
   "source": [
    "def collatz(x):\n",
    "    while x != 1: \n",
    "        print(x)  \n",
    "        if (x % 2) == 0: # if x is 'even'\n",
    "            x = x // 2\n",
    "        else: # 'x' is 'odd'\n",
    "            x = 3 * x + 1   \n",
    "    print(x,'\\n') \n",
    "\n",
    "collatz(1)\n",
    "collatz(10)"
   ]
  },
  {
   "cell_type": "markdown",
   "metadata": {},
   "source": [
    "# QUESTION 5\n",
    "Write a recursive method binary() that takes a non-negative integer n and prints the binary representation of integer n."
   ]
  },
  {
   "cell_type": "code",
   "execution_count": 5,
   "metadata": {
    "scrolled": true
   },
   "outputs": [
    {
     "name": "stdout",
     "output_type": "stream",
     "text": [
      "111\n",
      "1100001"
     ]
    }
   ],
   "source": [
    "def binary(n):\n",
    "    if n > 1:\n",
    "        binary(n//2)\n",
    "    print(n % 2, end=\"\")\n",
    "if __name__ == \"__main__\":\n",
    "    binary(7)\n",
    "    print()\n",
    "    binary(97)"
   ]
  },
  {
   "cell_type": "markdown",
   "metadata": {},
   "source": [
    "# Question 6\n",
    "Implement a class named HeadingParser that can be used to parse an HTML document, and retrieve and print all the headings in the document. You should implement your class as a subclass of HTMLParser, defined in Standard Library module html.parser. When fed a string containing HTML code, your class should print the headings, one per line and in the order in which they appear in the document. Each heading should be indented as follows: an h1 heading should have indentation 0, and h2 heading should have indentation 1, etc. Test your implementation using w3c.html."
   ]
  },
  {
   "cell_type": "code",
   "execution_count": 6,
   "metadata": {},
   "outputs": [
    {
     "name": "stdout",
     "output_type": "stream",
     "text": [
      "QUESTION 1 [C#]\n",
      "QUESTION 2\n",
      "QUESTION 3\n",
      "QUESTION 4\n",
      "QUESTION 5\n",
      "QUESTION 6[PYTHON]\n",
      "QUESTION 7\n",
      "QUESTION 8\n",
      "QUESTION 9\n",
      "QUESTION 10\n"
     ]
    }
   ],
   "source": [
    "from html.parser import HTMLParser\n",
    "#create a subclass of HTMLParser which will overload handle..\n",
    "class HeadingParser(HTMLParser):\n",
    "    headerFlag = False\n",
    "    indent = 0\n",
    "    #Triggered when an opening tag is encountered\n",
    "    def handle_starttag(self, tag, attrs):      \n",
    "        if tag == \"h1\":\n",
    "            #Set flag which says we are in an header\n",
    "            self.headerFlag = True\n",
    "            #Set indent to 0\n",
    "            self.indent= 0\n",
    "        elif tag == \"h2\":\n",
    "            #Set flag which says we are in an header\n",
    "            self.headerFlag = True\n",
    "            #Set indent to 1\n",
    "            self.indent= 1\n",
    "        elif tag == \"h3\":\n",
    "            #Set flag which says we are in an header\n",
    "            self.headerFlag = True\n",
    "            #Set indent to 2\n",
    "            self.indent= 2\n",
    "        elif tag == \"h4\":\n",
    "            #Set flag which says we are in an header\n",
    "            self.headerFlag = True\n",
    "            #Set indent to 3\n",
    "            self.indent= 3\n",
    "        elif tag == \"h5\":\n",
    "            #Set flag which says we are in an header\n",
    "            self.headerFlag = True\n",
    "            #Set indent to 4\n",
    "            self.indent= 4\n",
    "        elif tag == \"h6\":\n",
    "            #Set flag which says we are in an header\n",
    "            self.headerFlag = True\n",
    "            #Set indent to 5\n",
    "            self.indent= 5\n",
    "        else:\n",
    "            #ReSet flag\n",
    "            self.headerFlag = False\n",
    "            #Set indent to 0\n",
    "            self.indent= 0\n",
    "    #Triggered when data found\n",
    "    def handle_data(self, data):                \n",
    "        if self.headerFlag: \n",
    "            space = \" \"*self.indent\n",
    "            print(\"%s%s\" % (space,data))\n",
    "    #Handle end of a tag\n",
    "    def handle_endtag(self, tag):\n",
    "        #ReSet flag\n",
    "        if tag in [\"h1\",\"h2\",\"h3\",\"h4\",\"h5\",\"h6\"]:\n",
    "            self.headerFlag = False\n",
    "\n",
    "\n",
    "hParser = HeadingParser()\n",
    "#Open the file\n",
    "file = open(\"ASSIGNMENT1.html\", \"r\",encoding='utf-8-sig')\n",
    "#Read entirely the file         \n",
    "html = file.read()                  \n",
    "#Close the file \n",
    "file.close()    \n",
    "#Parse the file contents                \n",
    "hParser.feed(html)"
   ]
  },
  {
   "cell_type": "markdown",
   "metadata": {},
   "source": [
    "# Question 7 \n",
    "Implement recursive function webdir() that takes as input: a URL (as a string) and non-negative integers depth and indent. Your function should visit every web page reachable from the starting URL web page in depth clicks or less, and print each web page's URL. As shown below, indentation, specified by indent, should be used to indicate the depth of a URL."
   ]
  },
  {
   "cell_type": "code",
   "execution_count": 7,
   "metadata": {
    "scrolled": false
   },
   "outputs": [
    {
     "name": "stdout",
     "output_type": "stream",
     "text": [
      "https://gmail.com/\n",
      " https://accounts.google.com/signin/usernamerecovery?continue=https%3A%2F%2Fmail.google.com%2Fmail%2F&service=mail&ss=1&scc=1&rm=false&osid=1&ltmpl=default&hl=si\n",
      "  https://support.google.com/accounts/troubleshooter/2402620?#ts=2402553\n",
      "  https://accounts.google.com/TOS?loc=LK&hl=si&privacy=true\n",
      "  https://accounts.google.com/TOS?loc=LK&hl=si\n",
      "  https://myaccount.google.com/\n",
      " https://accounts.google.com/AccountChooser?continue=https%3A%2F%2Fmail.google.com%2Fmail%2F&service=mail&rm=false&ltmpl=default&scc=1&ss=1&osid=1&emr=1\n",
      "  https://accounts.google.com/signin/usernamerecovery?continue=https%3A%2F%2Fmail.google.com%2Fmail%2F&service=mail&scc=1&ltmpl=default&hl=si\n",
      "  https://accounts.google.com/AccountChooser?continue=https%3A%2F%2Fmail.google.com%2Fmail%2F&service=mail&ltmpl=default&scc=1&rip=1\n",
      "  https://accounts.google.com/SignUp?service=mail&continue=https%3A%2F%2Fmail.google.com%2Fmail%2F&ltmpl=default\n",
      "  https://www.google.com/intl/si/about\n",
      "  https://accounts.google.com/TOS?loc=LK&hl=si&privacy=true\n",
      "  https://accounts.google.com/TOS?loc=LK&hl=si\n",
      "  http://www.google.com/support/accounts?hl=si\n",
      " https://accounts.google.com/SignUp?service=mail&continue=https%3A%2F%2Fmail.google.com%2Fmail%2F&ltmpl=default\n",
      "  https://accounts.google.com/ServiceLogin?continue=https%3A%2F%2Fmail.google.com%2Fmail%2F&service=mail&ltmpl=default&dsh=-4665250292406228559\n",
      "  https://support.google.com/accounts/answer/23852?hl=si\n",
      "  https://accounts.google.com/ServiceLogin?continue=https%3A%2F%2Fmail.google.com%2Fmail%2F&service=mail&ltmpl=default&dsh=-4665250292406228559\n",
      "  https://accounts.google.com/signin/recovery?continue=https%3A%2F%2Fmail.google.com%2Fmail%2F&service=mail\n",
      "  https://support.google.com/accounts/answer/32040?hl=si\n",
      "  https://accounts.google.com/TOS?loc=LK&hl=si\n",
      "  https://accounts.google.com/TOS?loc=LK&hl=si&privacy=true\n",
      "  https://support.google.com/accounts/answer/1733224?hl=si\n",
      "  https://accounts.google.com/TOS?loc=LK&hl=si\n",
      "  https://support.google.com/accounts?hl=si\n",
      " https://www.google.com/intl/si/about\n",
      "  https://careers.google.com/\n",
      "  https://www.google.com/contact/\n",
      "  https://www.google.com/doodles\n",
      "  https://instagram.com/google/\n",
      "  https://www.youtube.com/user/Google\n",
      "  https://twitter.com/google\n",
      "  https://www.facebook.com/Google\n",
      "  https://www.linkedin.com/company/google\n",
      "  https://abc.xyz/investor/\n",
      "  https://careers.google.com/\n",
      "  https://www.blog.google/\n",
      "  https://www.blog.google/press/\n",
      "  https://www.google.com/permissions/\n",
      "  https://www.thinkwithgoogle.com/\n",
      "  https://www.google.com/about/appsecurity/\n",
      "  https://www.google.com/about/software-principles.html\n",
      "  https://www.google.com/about/unwanted-software-policy.html\n",
      "  https://www.google.org\n",
      "  https://sustainability.google\n",
      "  https://crisisresponse.google/\n",
      "  https://www.google.com/diversity/\n",
      "  https://www.google.com/accessibility/\n",
      "  https://transparencyreport.google.com\n",
      "  https://wellbeing.google\n",
      "  https://safety.google/\n",
      "  https://www.google.com/about/responsible-supply-chain/\n",
      "  https://support.google.com?hl=en\n",
      "  https://www.google.com/policies/privacy/\n",
      "  https://www.google.com/policies/terms/\n",
      " https://accounts.google.com/TOS?loc=LK&hl=si&privacy=true\n",
      "  https://www.google.lk/intl/en/about/products\n",
      "  https://myaccount.google.com/?utm_source=OGB&utm_medium=app\n",
      "  https://www.google.lk/webhp\n",
      "  https://maps.google.lk/maps?hl=en\n",
      "  https://www.youtube.com/?gl=LK\n",
      "  https://play.google.com/?hl=en\n",
      "  https://news.google.com/\n",
      "  https://mail.google.com/mail/\n",
      "  https://meet.google.com/?hs=197\n",
      "  https://contacts.google.com/?hl=en\n",
      "  https://drive.google.com/\n",
      "  https://calendar.google.com/calendar\n",
      "  https://translate.google.lk/?hl=en\n",
      "  https://photos.google.com/?pageId=none\n",
      "  https://duo.google.com/?usp=duo_ald\n",
      "  https://www.google.com/chrome/?brand=CHZO&utm_source=google.com&utm_medium=desktop-app-launcher&utm_campaign=desktop-app-launcher&utm_content=chrome-logo&utm_keyword=CHZO\n",
      "  https://docs.google.com/document/?usp=docs_alc\n",
      "  https://docs.google.com/spreadsheets/?usp=sheets_alc\n",
      "  https://docs.google.com/presentation/?usp=slides_alc\n",
      "  https://books.google.lk/?hl=en\n",
      "  https://www.blogger.com/\n",
      "  https://hangouts.google.com/\n",
      "  https://keep.google.com/\n",
      "  https://jamboard.google.com/?usp=jam_ald\n",
      "  https://earth.google.com/web/\n",
      "  https://www.google.lk/save\n",
      "  https://artsandculture.google.com/?hl=en&utm_source=ogs.google.com&utm_medium=referral\n",
      "  https://ads.google.com/home/?subid=ww-ww-et-g-aw-a-vasquette_ads_cons_1!o2\n",
      "  https://podcasts.google.com/\n",
      "  https://www.google.lk/intl/en/about/products\n",
      "  https://accounts.google.com/ServiceLogin?passive=1209600&continue=https://policies.google.com/privacy?gl%3DLK%26hl%3Dsi&followup=https://policies.google.com/privacy?gl%3DLK%26hl%3Dsi&hl=si&ec=GAZAoQQ\n",
      "  https://www.google.com/?hl=en_US\n",
      "  https://www.google.com/?hl=en_US\n",
      "  https://myaccount.google.com/?hl=en_US\n",
      "  https://myaccount.google.com/privacycheckup?utm_source=pp&utm_medium=Promo-in-product&utm_campaign=pp_intro&hl=en_US\n",
      "  https://www.gstatic.com/policies/privacy/pdf/20210204/3jla0xz1/google_privacy_policy_en.pdf\n",
      "  https://support.google.com/policies?p=privpol_privts&hl=en_US\n",
      "  https://myaccount.google.com/?utm_source=pp&hl=en_US\n",
      "  https://support.google.com/accounts?p=privpol_location&hl=en_US\n",
      "  https://support.google.com/accounts?p=privpol_lochistory&hl=en_US\n",
      "  https://myaccount.google.com/security-checkup?utm_source=pp&hl=en_US\n",
      "  https://adssettings.google.com/?utm_source=pp&hl=en_US\n",
      "  https://myaccount.google.com/privacycheckup?utm_source=pp&utm_medium=Promo-in-product&utm_campaign=pp_body&hl=en_US\n",
      "  https://myaccount.google.com/privacycheckup?utm_source=pp&utm_medium=Promo-in-product&utm_campaign=pp_body&hl=en_US\n",
      "  https://myaccount.google.com/?hl=en_US\n",
      "  https://myaccount.google.com/activitycontrols?utm_source=pp&hl=en_US\n",
      "  https://adssettings.google.com/?utm_source=pp&hl=en_US\n",
      "  https://myaccount.google.com/profile?utm_source=pp&hl=en_US\n",
      "  https://myaccount.google.com/shared-endorsements?utm_source=pp&hl=en_US\n",
      "  https://myactivity.google.com/myactivity?utm_source=pp&hl=en_US\n",
      "  https://myaccount.google.com/dashboard?utm_source=pp&hl=en_US\n",
      "  https://myaccount.google.com/personal-info?utm_source=pp&hl=en_US\n",
      "  https://www.google.com/history/optout?utm_source=pp&hl=en_US\n",
      "  https://www.youtube.com/feed/history/search_history?utm_source=pp&hl=en_US\n",
      "  https://www.youtube.com/feed/history?utm_source=pp&hl=en_US\n",
      "  https://adssettings.google.com/?utm_source=pp&hl=en_US\n",
      "  https://takeout.google.com/?utm_source=pp&hl=en_US\n",
      "  https://support.google.com/legal?p=privpol_remove&hl=en_US\n",
      "  https://myactivity.google.com/?utm_source=pp&hl=en_US\n",
      "  https://myaccount.google.com/deleteservices?utm_source=pp&hl=en_US\n",
      "  https://myaccount.google.com/deleteaccount?utm_source=pp&hl=en_US\n",
      "  https://myaccount.google.com/delete-services-or-account?utm_source=pp&hl=en_US\n",
      "  https://myaccount.google.com/inactive?utm_source=pp&hl=en_US\n",
      "  https://support.google.com/websearch?p=privpol_locserp&hl=en_US\n",
      "  https://support.google.com/accounts?p=privpol_endorse&hl=en_US\n",
      "  https://support.google.com/googlehome?p=privpol_homedata&hl=en_US\n",
      "  https://support.google.com/a?p=privpol_admin&hl=en_US\n",
      "  https://transparencyreport.google.com/user-data/overview?hl=en_US\n",
      "  https://safebrowsing.google.com/?utm_source=pp&hl=en_US\n",
      "  https://www.google.com/landing/2step/?utm_source=pp&hl=en_US\n",
      "  https://takeout.google.com/?utm_source=pp&hl=en_US\n",
      "  https://myactivity.google.com/?utm_source=pp&hl=en_US\n",
      "  https://myaccount.google.com/deleteservices?utm_source=pp&hl=en_US\n",
      "  https://myaccount.google.com/deleteaccount?utm_source=pp&hl=en_US\n",
      "  https://myaccount.google.com/delete-services-or-account?utm_source=pp&hl=en_US\n",
      "  https://myactivity.google.com/myactivity?hl=en_US\n",
      "  https://support.google.com/accounts/answer/465?authuser=0&hl=en_US#auto-delete\n",
      "  https://www.google.com/chrome/intl/en/privacy.html\n",
      "  https://payments.google.com/legaldocument?family=0.privacynotice&hl=en\n",
      "  https://fiber.google.com/legal/privacy.html\n",
      "  https://fi.google.com/about/tos/#project-fi-privacy-notice\n",
      "  https://www.google.com/work/apps/terms/education_privacy.html\n",
      "  https://readalong.google/intl/en_LK/privacy\n",
      "  https://kids.youtube.com/privacynotice\n",
      "  https://families.google.com/familylink/privacy/child-policy/\n",
      "  https://assistant.google.com/privacy-notice-childrens-features/?hl=en_US\n",
      "  https://cloud.google.com/terms/cloud-privacy-notice?hl=en_US\n",
      "  https://myaccount.google.com/?hl=en_US\n",
      "  https://myaccount.google.com/privacycheckup?utm_source=pp&utm_medium=Promo-in-product&utm_campaign=pp_body&hl=en_US\n",
      "  https://www.google.com/intl/en/safetycenter/\n",
      "  https://privacy.google.com/businesses/affiliates?hl=en_US\n",
      "  https://myaccount.google.com/?hl=en_US\n",
      "  https://support.google.com/accounts?p=privpol_whyad&hl=en_US\n",
      "  https://support.google.com/accounts?p=privpol_whyad&hl=en_US\n",
      "  https://support.google.com/websearch?p=privpol_privresults&hl=en_US\n",
      "  https://support.google.com/accounts?p=autocontacts&hl=en_US\n",
      "  https://support.google.com/websearch?p=privpol_feed&hl=en_US\n",
      "  https://support.google.com/googlehome?p=privpol_actions&hl=en_US\n",
      "  https://support.google.com/websearch?p=privpol_searchactivity&hl=en_US\n",
      "  https://support.google.com/websearch?p=privpol_incognito&hl=en_US\n",
      "  https://www.google.com/history/optout?utm_source=pp&hl=en_US\n",
      "  https://support.google.com/photos?p=privpol_manage&hl=en_US\n",
      "  https://support.google.com/accounts?p=privpol_androidloc&hl=en_US\n",
      "  https://transparencyreport.google.com/user-data/overview?hl=en_US\n",
      "  https://support.google.com/analytics?p=privpol_data&hl=en_US\n",
      "  https://support.google.com/accounts?p=privpol_controlads&hl=en_US\n",
      "  https://support.google.com/accounts?p=privpol_agereq&hl=en_US\n",
      "  https://support.google.com/accounts?p=privpol_whyad&hl=en_US\n",
      "  https://support.google.com/accounts?p=privpol_phone&hl=en_US\n",
      "  https://support.google.com/mail?p=privpol_signinactivity&hl=en_US\n",
      "  https://support.google.com/adwordspolicy?p=privpol_p13nad&hl=en_US\n",
      "  https://www.google.com/about/datacenters/inside/locations?hl=en_US\n",
      "  https://support.google.com/trends?p=privpol_about&hl=en_US\n",
      "  https://support.google.com/blogger?p=privpol_blog&hl=en_US\n",
      "  https://support.google.com/sites?p=privpol_delete&hl=en_US\n",
      "  https://support.google.com/googleplay?p=privpol_review&hl=en_US\n",
      "  https://support.google.com/chrome?p=privpol_chrsync&hl=en_US\n",
      "  https://contacts.google.com?hl=en_US\n",
      "  https://myaccount.google.com/?hl=en_US\n",
      "  https://www.google.com/\n",
      "  https://about.google/\n",
      " https://accounts.google.com/TOS?loc=LK&hl=si\n"
     ]
    },
    {
     "name": "stdout",
     "output_type": "stream",
     "text": [
      "  https://www.google.lk/intl/en/about/products\n",
      "  https://myaccount.google.com/?utm_source=OGB&utm_medium=app\n",
      "  https://www.google.lk/webhp\n",
      "  https://maps.google.lk/maps?hl=en\n",
      "  https://www.youtube.com/?gl=LK\n",
      "  https://play.google.com/?hl=en\n",
      "  https://news.google.com/\n",
      "  https://mail.google.com/mail/\n",
      "  https://meet.google.com/?hs=197\n",
      "  https://contacts.google.com/?hl=en\n",
      "  https://drive.google.com/\n",
      "  https://calendar.google.com/calendar\n",
      "  https://translate.google.lk/?hl=en\n",
      "  https://photos.google.com/?pageId=none\n",
      "  https://duo.google.com/?usp=duo_ald\n",
      "  https://www.google.com/chrome/?brand=CHZO&utm_source=google.com&utm_medium=desktop-app-launcher&utm_campaign=desktop-app-launcher&utm_content=chrome-logo&utm_keyword=CHZO\n",
      "  https://docs.google.com/document/?usp=docs_alc\n",
      "  https://docs.google.com/spreadsheets/?usp=sheets_alc\n",
      "  https://docs.google.com/presentation/?usp=slides_alc\n",
      "  https://books.google.lk/?hl=en\n",
      "  https://www.blogger.com/\n",
      "  https://hangouts.google.com/\n",
      "  https://keep.google.com/\n",
      "  https://jamboard.google.com/?usp=jam_ald\n",
      "  https://earth.google.com/web/\n",
      "  https://www.google.lk/save\n",
      "  https://artsandculture.google.com/?hl=en&utm_source=ogs.google.com&utm_medium=referral\n",
      "  https://ads.google.com/home/?subid=ww-ww-et-g-aw-a-vasquette_ads_cons_1!o2\n",
      "  https://podcasts.google.com/\n",
      "  https://www.google.lk/intl/en/about/products\n",
      "  https://accounts.google.com/ServiceLogin?passive=1209600&continue=https://policies.google.com/terms?gl%3DLK%26hl%3Dsi&followup=https://policies.google.com/terms?gl%3DLK%26hl%3Dsi&hl=si&ec=GAZAoQQ\n",
      "  https://www.google.com/?hl=en_US\n",
      "  https://www.google.com/?hl=en_US\n",
      "  https://myaccount.google.com/?hl=en_US\n",
      "  https://www.gstatic.com/policies/terms/pdf/20200331/ba461e2f/google_terms_of_service_en.pdf\n",
      "  https://about.google/intl/en_LK/how-our-business-works\n",
      "  https://www.google.com/about/philosophy.html?hl=en_US\n",
      "  https://myaccount.google.com/?hl=en_US\n",
      "  https://support.google.com/accounts/answer/1350409?hl=en_US\n",
      "  https://about.google/intl/en_LK/how-our-business-works\n",
      "  https://takeout.google.com/settings/takeout?hl=en_US\n",
      "  https://support.google.com/legal/topic/4558877?hl=en_US\n",
      "  https://safety.google?hl=en_US\n",
      "  https://google.com/contact?hl=en_US\n",
      "  https://adssettings.google.com?utm_source=ps-terms&hl=en_US\n",
      "  https://support.google.com/accounts/answer/1350409?hl=en_US\n",
      "  https://support.google.com/accounts/answer/27441?hl=en_US\n",
      "  https://myaccount.google.com/security-checkup?hl=en_US\n",
      "  https://support.google.com/legal/answer/3110420?hl=en_US\n",
      "  https://support.google.com/legal/topic/4558877?hl=en_US\n",
      "  https://www.google.com/permissions?hl=en_US\n",
      "  https://support.google.com/accounts/answer/40695?hl=en_US\n",
      "  https://www.google.com/tools/feedback?hl=en_US\n",
      "  https://www.google.com/contact?hl=en_US\n",
      "  https://accounts.google.com/ServiceLogin?hl=en-US&continue=https://policies.google.com/terms?gl%3DLK%26hl%3Dsi\n",
      "  https://www.google.com/\n",
      "  https://about.google/\n",
      " http://www.google.com/support/accounts?hl=si\n",
      "  https://www.google.lk/intl/si/about/products?tab=uh\n",
      "  https://myaccount.google.com/?utm_source=OGB&tab=uk&utm_medium=app\n",
      "  https://www.google.lk/webhp?tab=uw\n",
      "  https://maps.google.lk/maps?hl=si&tab=ul\n",
      "  https://www.youtube.com/?gl=LK&tab=u1\n",
      "  https://news.google.com/?tab=un\n",
      "  https://mail.google.com/mail/?tab=um\n",
      "  https://meet.google.com/?hs=197\n",
      "  https://contacts.google.com/?hl=si&tab=uC\n",
      "  https://drive.google.com/?tab=uo\n",
      "  https://calendar.google.com/calendar?tab=uc\n",
      "  https://translate.google.lk/?hl=si&tab=uT\n",
      "  https://photos.google.com/?tab=uq&pageId=none\n",
      "  https://duo.google.com/?usp=duo_ald\n",
      "  https://www.google.com/chrome/?brand=CHZO&utm_source=google.com&utm_medium=desktop-app-launcher&utm_campaign=desktop-app-launcher&utm_content=chrome-logo&utm_keyword=CHZO\n",
      "  https://docs.google.com/document/?usp=docs_alc\n",
      "  https://docs.google.com/spreadsheets/?usp=sheets_alc\n",
      "  https://docs.google.com/presentation/?usp=slides_alc\n",
      "  https://books.google.lk/?hl=si&tab=up\n",
      "  https://www.blogger.com/?tab=uj\n",
      "  https://hangouts.google.com/\n",
      "  https://keep.google.com/\n",
      "  https://jamboard.google.com/?usp=jam_ald\n",
      "  https://earth.google.com/web/\n",
      "  https://www.google.lk/save\n",
      "  https://artsandculture.google.com/?hl=si&utm_source=ogs.google.com&utm_medium=referral\n",
      "  https://ads.google.com/home/?subid=ww-ww-et-g-aw-a-vasquette_ads_cons_1!o2\n",
      "  https://podcasts.google.com/\n",
      "  https://accounts.google.com/ServiceLogin?hl=si&passive=true&continue=http://support.google.com/accounts/%3Fhl%3Dsi&ec=GAZAdQ\n",
      "  https://www.google.com/accounts/TOS\n",
      "  https://www.google.com/accounts/TOS\n"
     ]
    }
   ],
   "source": [
    "from bs4 import BeautifulSoup, SoupStrainer #First, the function to retrieve all the links from a website, using BeautifulSoup:\n",
    "import httplib2\n",
    "def getLinks(url):\n",
    "    res = []\n",
    "    http = httplib2.Http()\n",
    "    status, response = http.request(url)\n",
    "    for link in BeautifulSoup(response, parse_only=SoupStrainer('a'), features=\"html.parser\"):\n",
    "        if link.has_attr('href'):\n",
    "            if link['href'][:5] == \"http:\" or link['href'][:5] == \"https\":\n",
    "                res.append(link['href'])\n",
    "    return res\n",
    "#This funtion simply finds all the <a> tags in the provided page and gets their corresponding url. \n",
    "def webdir(url, depth, indent): #the webdir function: \n",
    "    print(indent*\" \" + url)\n",
    "    if depth == 0:\n",
    "        return\n",
    "    for i in getLinks(url):\n",
    "        webdir(i, depth-1, indent+1)\n",
    "\n",
    "webdir(\"https://gmail.com/\", 2, 0)"
   ]
  },
  {
   "cell_type": "markdown",
   "metadata": {},
   "source": [
    "# Question 8\n",
    "Write SQL queries on the below database table that return:\n",
    "a) All the temperature data.\n",
    "b) All the cities, but without repetition.\n",
    "c) All the records for India.\n",
    "d) All the Fall records.\n",
    "e) The city, country, and season for which the average rainfall is between 200 and 400 millimeters.\n",
    "f) The city and country for which the average Fall temperature is above 20 degrees, in increasing temperature order.\n",
    "g) The total annual rainfall for Cairo.\n",
    "h) The total rainfall for each season."
   ]
  },
  {
   "cell_type": "code",
   "execution_count": 8,
   "metadata": {},
   "outputs": [
    {
     "name": "stdout",
     "output_type": "stream",
     "text": [
      "Requirement already satisfied: ipython-sql in c:\\users\\ganes\\anaconda3\\lib\\site-packages (0.4.0)\n",
      "Requirement already satisfied: six in c:\\users\\ganes\\anaconda3\\lib\\site-packages (from ipython-sql) (1.15.0)\n",
      "Requirement already satisfied: ipython-genutils>=0.1.0 in c:\\users\\ganes\\anaconda3\\lib\\site-packages (from ipython-sql) (0.2.0)\n",
      "Requirement already satisfied: sqlalchemy>=0.6.7 in c:\\users\\ganes\\anaconda3\\lib\\site-packages (from ipython-sql) (1.3.20)\n",
      "Requirement already satisfied: sqlparse in c:\\users\\ganes\\anaconda3\\lib\\site-packages (from ipython-sql) (0.4.1)\n",
      "Requirement already satisfied: ipython>=1.0 in c:\\users\\ganes\\anaconda3\\lib\\site-packages (from ipython-sql) (7.19.0)\n",
      "Requirement already satisfied: prettytable<1 in c:\\users\\ganes\\anaconda3\\lib\\site-packages (from ipython-sql) (0.7.2)\n",
      "Requirement already satisfied: colorama; sys_platform == \"win32\" in c:\\users\\ganes\\anaconda3\\lib\\site-packages (from ipython>=1.0->ipython-sql) (0.4.4)\n",
      "Requirement already satisfied: pygments in c:\\users\\ganes\\anaconda3\\lib\\site-packages (from ipython>=1.0->ipython-sql) (2.7.2)\n",
      "Requirement already satisfied: backcall in c:\\users\\ganes\\anaconda3\\lib\\site-packages (from ipython>=1.0->ipython-sql) (0.2.0)\n",
      "Requirement already satisfied: traitlets>=4.2 in c:\\users\\ganes\\anaconda3\\lib\\site-packages (from ipython>=1.0->ipython-sql) (5.0.5)\n",
      "Requirement already satisfied: prompt-toolkit!=3.0.0,!=3.0.1,<3.1.0,>=2.0.0 in c:\\users\\ganes\\anaconda3\\lib\\site-packages (from ipython>=1.0->ipython-sql) (3.0.8)\n",
      "Requirement already satisfied: decorator in c:\\users\\ganes\\anaconda3\\lib\\site-packages (from ipython>=1.0->ipython-sql) (4.4.2)\n",
      "Requirement already satisfied: pickleshare in c:\\users\\ganes\\anaconda3\\lib\\site-packages (from ipython>=1.0->ipython-sql) (0.7.5)\n",
      "Requirement already satisfied: jedi>=0.10 in c:\\users\\ganes\\anaconda3\\lib\\site-packages (from ipython>=1.0->ipython-sql) (0.17.1)\n",
      "Requirement already satisfied: setuptools>=18.5 in c:\\users\\ganes\\anaconda3\\lib\\site-packages (from ipython>=1.0->ipython-sql) (50.3.1.post20201107)\n",
      "Requirement already satisfied: wcwidth in c:\\users\\ganes\\anaconda3\\lib\\site-packages (from prompt-toolkit!=3.0.0,!=3.0.1,<3.1.0,>=2.0.0->ipython>=1.0->ipython-sql) (0.2.5)\n",
      "Requirement already satisfied: parso<0.8.0,>=0.7.0 in c:\\users\\ganes\\anaconda3\\lib\\site-packages (from jedi>=0.10->ipython>=1.0->ipython-sql) (0.7.0)\n"
     ]
    }
   ],
   "source": [
    "!pip install ipython-sql"
   ]
  },
  {
   "cell_type": "code",
   "execution_count": 9,
   "metadata": {},
   "outputs": [
    {
     "data": {
      "text/plain": [
       "'Connected: @None'"
      ]
     },
     "execution_count": 9,
     "metadata": {},
     "output_type": "execute_result"
    }
   ],
   "source": [
    "#loads the ipython-sql extension\n",
    "%load_ext sql\n",
    "#connect to SQL database\n",
    "%sql sqlite://"
   ]
  },
  {
   "cell_type": "code",
   "execution_count": 10,
   "metadata": {},
   "outputs": [
    {
     "name": "stdout",
     "output_type": "stream",
     "text": [
      " * sqlite://\n",
      "Done.\n",
      " * sqlite://\n",
      "1 rows affected.\n",
      " * sqlite://\n",
      "1 rows affected.\n",
      " * sqlite://\n",
      "1 rows affected.\n",
      " * sqlite://\n",
      "1 rows affected.\n",
      " * sqlite://\n",
      "1 rows affected.\n",
      " * sqlite://\n",
      "1 rows affected.\n",
      " * sqlite://\n",
      "1 rows affected.\n",
      " * sqlite://\n",
      "1 rows affected.\n",
      " * sqlite://\n",
      "1 rows affected.\n",
      " * sqlite://\n",
      "1 rows affected.\n",
      " * sqlite://\n",
      "1 rows affected.\n",
      " * sqlite://\n",
      "1 rows affected.\n"
     ]
    },
    {
     "data": {
      "text/plain": [
       "[]"
      ]
     },
     "execution_count": 10,
     "metadata": {},
     "output_type": "execute_result"
    }
   ],
   "source": [
    "%sql CREATE TABLE RECORD (City text,Country text,Season text,Temperature real,Rainfall real);\n",
    "%sql INSERT INTO RECORD VALUES('Mumbai','India','Winter',24.8,5.9);\n",
    "%sql INSERT INTO RECORD VALUES('Mumbai','India','Spring',28.4,16.2);\n",
    "%sql INSERT INTO RECORD VALUES('Mumbai','India','Summer',27.9,1549.4);\n",
    "%sql INSERT INTO RECORD VALUES('Mumbai','India','Fall',27.6,346.0);\n",
    "%sql INSERT INTO RECORD VALUES('London','United Kingdom','Winter',4.2,207.7);\n",
    "%sql INSERT INTO RECORD VALUES('London','United Kingdom','Spring',8.3,169.6);\n",
    "%sql INSERT INTO RECORD VALUES('London','United Kingdom','Summer',15.7,157.0);\n",
    "%sql INSERT INTO RECORD VALUES('London','United Kingdom','Fall',10.4,218.5);\n",
    "%sql INSERT INTO RECORD VALUES('Cairo','Egypt','Winter',13.6,16.5);\n",
    "%sql INSERT INTO RECORD VALUES('Cairo','Egypt','Spring',20.7,6.5);\n",
    "%sql INSERT INTO RECORD VALUES('Cairo','Egypt','Summer',27.7,0.1);\n",
    "%sql INSERT INTO RECORD VALUES('Cairo','Egypt','Fall',22.2,4.5);"
   ]
  },
  {
   "cell_type": "code",
   "execution_count": 11,
   "metadata": {},
   "outputs": [
    {
     "name": "stdout",
     "output_type": "stream",
     "text": [
      " * sqlite://\n",
      "Done.\n"
     ]
    },
    {
     "data": {
      "text/html": [
       "<table>\n",
       "    <tr>\n",
       "        <th>Temperature</th>\n",
       "    </tr>\n",
       "    <tr>\n",
       "        <td>24.8</td>\n",
       "    </tr>\n",
       "    <tr>\n",
       "        <td>28.4</td>\n",
       "    </tr>\n",
       "    <tr>\n",
       "        <td>27.9</td>\n",
       "    </tr>\n",
       "    <tr>\n",
       "        <td>27.6</td>\n",
       "    </tr>\n",
       "    <tr>\n",
       "        <td>4.2</td>\n",
       "    </tr>\n",
       "    <tr>\n",
       "        <td>8.3</td>\n",
       "    </tr>\n",
       "    <tr>\n",
       "        <td>15.7</td>\n",
       "    </tr>\n",
       "    <tr>\n",
       "        <td>10.4</td>\n",
       "    </tr>\n",
       "    <tr>\n",
       "        <td>13.6</td>\n",
       "    </tr>\n",
       "    <tr>\n",
       "        <td>20.7</td>\n",
       "    </tr>\n",
       "    <tr>\n",
       "        <td>27.7</td>\n",
       "    </tr>\n",
       "    <tr>\n",
       "        <td>22.2</td>\n",
       "    </tr>\n",
       "</table>"
      ],
      "text/plain": [
       "[(24.8,),\n",
       " (28.4,),\n",
       " (27.9,),\n",
       " (27.6,),\n",
       " (4.2,),\n",
       " (8.3,),\n",
       " (15.7,),\n",
       " (10.4,),\n",
       " (13.6,),\n",
       " (20.7,),\n",
       " (27.7,),\n",
       " (22.2,)]"
      ]
     },
     "execution_count": 11,
     "metadata": {},
     "output_type": "execute_result"
    }
   ],
   "source": [
    "%sql SELECT Temperature from RECORD;"
   ]
  },
  {
   "cell_type": "code",
   "execution_count": 12,
   "metadata": {},
   "outputs": [
    {
     "name": "stdout",
     "output_type": "stream",
     "text": [
      " * sqlite://\n",
      "Done.\n"
     ]
    },
    {
     "data": {
      "text/html": [
       "<table>\n",
       "    <tr>\n",
       "        <th>City</th>\n",
       "    </tr>\n",
       "    <tr>\n",
       "        <td>Mumbai</td>\n",
       "    </tr>\n",
       "    <tr>\n",
       "        <td>London</td>\n",
       "    </tr>\n",
       "    <tr>\n",
       "        <td>Cairo</td>\n",
       "    </tr>\n",
       "</table>"
      ],
      "text/plain": [
       "[('Mumbai',), ('London',), ('Cairo',)]"
      ]
     },
     "execution_count": 12,
     "metadata": {},
     "output_type": "execute_result"
    }
   ],
   "source": [
    "%sql SELECT distinct City from RECORD;"
   ]
  },
  {
   "cell_type": "code",
   "execution_count": 13,
   "metadata": {},
   "outputs": [
    {
     "name": "stdout",
     "output_type": "stream",
     "text": [
      " * sqlite://\n",
      "Done.\n"
     ]
    },
    {
     "data": {
      "text/html": [
       "<table>\n",
       "    <tr>\n",
       "        <th>City</th>\n",
       "        <th>Country</th>\n",
       "        <th>Season</th>\n",
       "        <th>Temperature</th>\n",
       "        <th>Rainfall</th>\n",
       "    </tr>\n",
       "    <tr>\n",
       "        <td>Mumbai</td>\n",
       "        <td>India</td>\n",
       "        <td>Winter</td>\n",
       "        <td>24.8</td>\n",
       "        <td>5.9</td>\n",
       "    </tr>\n",
       "    <tr>\n",
       "        <td>Mumbai</td>\n",
       "        <td>India</td>\n",
       "        <td>Spring</td>\n",
       "        <td>28.4</td>\n",
       "        <td>16.2</td>\n",
       "    </tr>\n",
       "    <tr>\n",
       "        <td>Mumbai</td>\n",
       "        <td>India</td>\n",
       "        <td>Summer</td>\n",
       "        <td>27.9</td>\n",
       "        <td>1549.4</td>\n",
       "    </tr>\n",
       "    <tr>\n",
       "        <td>Mumbai</td>\n",
       "        <td>India</td>\n",
       "        <td>Fall</td>\n",
       "        <td>27.6</td>\n",
       "        <td>346.0</td>\n",
       "    </tr>\n",
       "</table>"
      ],
      "text/plain": [
       "[('Mumbai', 'India', 'Winter', 24.8, 5.9),\n",
       " ('Mumbai', 'India', 'Spring', 28.4, 16.2),\n",
       " ('Mumbai', 'India', 'Summer', 27.9, 1549.4),\n",
       " ('Mumbai', 'India', 'Fall', 27.6, 346.0)]"
      ]
     },
     "execution_count": 13,
     "metadata": {},
     "output_type": "execute_result"
    }
   ],
   "source": [
    "%sql SELECT * from RECORD where Country='India';"
   ]
  },
  {
   "cell_type": "code",
   "execution_count": 14,
   "metadata": {},
   "outputs": [
    {
     "name": "stdout",
     "output_type": "stream",
     "text": [
      " * sqlite://\n",
      "Done.\n"
     ]
    },
    {
     "data": {
      "text/html": [
       "<table>\n",
       "    <tr>\n",
       "        <th>City</th>\n",
       "        <th>Country</th>\n",
       "        <th>Season</th>\n",
       "        <th>Temperature</th>\n",
       "        <th>Rainfall</th>\n",
       "    </tr>\n",
       "    <tr>\n",
       "        <td>Mumbai</td>\n",
       "        <td>India</td>\n",
       "        <td>Fall</td>\n",
       "        <td>27.6</td>\n",
       "        <td>346.0</td>\n",
       "    </tr>\n",
       "    <tr>\n",
       "        <td>London</td>\n",
       "        <td>United Kingdom</td>\n",
       "        <td>Fall</td>\n",
       "        <td>10.4</td>\n",
       "        <td>218.5</td>\n",
       "    </tr>\n",
       "    <tr>\n",
       "        <td>Cairo</td>\n",
       "        <td>Egypt</td>\n",
       "        <td>Fall</td>\n",
       "        <td>22.2</td>\n",
       "        <td>4.5</td>\n",
       "    </tr>\n",
       "</table>"
      ],
      "text/plain": [
       "[('Mumbai', 'India', 'Fall', 27.6, 346.0),\n",
       " ('London', 'United Kingdom', 'Fall', 10.4, 218.5),\n",
       " ('Cairo', 'Egypt', 'Fall', 22.2, 4.5)]"
      ]
     },
     "execution_count": 14,
     "metadata": {},
     "output_type": "execute_result"
    }
   ],
   "source": [
    "%sql SELECT * from RECORD where Season='Fall';"
   ]
  },
  {
   "cell_type": "code",
   "execution_count": 15,
   "metadata": {},
   "outputs": [
    {
     "name": "stdout",
     "output_type": "stream",
     "text": [
      " * sqlite://\n",
      "Done.\n"
     ]
    },
    {
     "data": {
      "text/html": [
       "<table>\n",
       "    <tr>\n",
       "        <th>City</th>\n",
       "        <th>Country</th>\n",
       "        <th>Season</th>\n",
       "    </tr>\n",
       "    <tr>\n",
       "        <td>Mumbai</td>\n",
       "        <td>India</td>\n",
       "        <td>Fall</td>\n",
       "    </tr>\n",
       "    <tr>\n",
       "        <td>London</td>\n",
       "        <td>United Kingdom</td>\n",
       "        <td>Winter</td>\n",
       "    </tr>\n",
       "    <tr>\n",
       "        <td>London</td>\n",
       "        <td>United Kingdom</td>\n",
       "        <td>Fall</td>\n",
       "    </tr>\n",
       "</table>"
      ],
      "text/plain": [
       "[('Mumbai', 'India', 'Fall'),\n",
       " ('London', 'United Kingdom', 'Winter'),\n",
       " ('London', 'United Kingdom', 'Fall')]"
      ]
     },
     "execution_count": 15,
     "metadata": {},
     "output_type": "execute_result"
    }
   ],
   "source": [
    "%sql SELECT City, Country, Season from RECORD where Rainfall >= 200 and Rainfall <= 400;"
   ]
  },
  {
   "cell_type": "code",
   "execution_count": 16,
   "metadata": {},
   "outputs": [
    {
     "name": "stdout",
     "output_type": "stream",
     "text": [
      " * sqlite://\n",
      "Done.\n"
     ]
    },
    {
     "data": {
      "text/html": [
       "<table>\n",
       "    <tr>\n",
       "        <th>City</th>\n",
       "        <th>Country</th>\n",
       "    </tr>\n",
       "    <tr>\n",
       "        <td>Cairo</td>\n",
       "        <td>Egypt</td>\n",
       "    </tr>\n",
       "    <tr>\n",
       "        <td>Cairo</td>\n",
       "        <td>Egypt</td>\n",
       "    </tr>\n",
       "    <tr>\n",
       "        <td>Mumbai</td>\n",
       "        <td>India</td>\n",
       "    </tr>\n",
       "    <tr>\n",
       "        <td>Mumbai</td>\n",
       "        <td>India</td>\n",
       "    </tr>\n",
       "    <tr>\n",
       "        <td>Cairo</td>\n",
       "        <td>Egypt</td>\n",
       "    </tr>\n",
       "    <tr>\n",
       "        <td>Mumbai</td>\n",
       "        <td>India</td>\n",
       "    </tr>\n",
       "    <tr>\n",
       "        <td>Mumbai</td>\n",
       "        <td>India</td>\n",
       "    </tr>\n",
       "</table>"
      ],
      "text/plain": [
       "[('Cairo', 'Egypt'),\n",
       " ('Cairo', 'Egypt'),\n",
       " ('Mumbai', 'India'),\n",
       " ('Mumbai', 'India'),\n",
       " ('Cairo', 'Egypt'),\n",
       " ('Mumbai', 'India'),\n",
       " ('Mumbai', 'India')]"
      ]
     },
     "execution_count": 16,
     "metadata": {},
     "output_type": "execute_result"
    }
   ],
   "source": [
    "%sql SELECT City, Country from RECORD where Temperature>20 order by Temperature ASC;"
   ]
  },
  {
   "cell_type": "code",
   "execution_count": 17,
   "metadata": {},
   "outputs": [
    {
     "name": "stdout",
     "output_type": "stream",
     "text": [
      " * sqlite://\n",
      "Done.\n"
     ]
    },
    {
     "data": {
      "text/html": [
       "<table>\n",
       "    <tr>\n",
       "        <th>count(Rainfall)</th>\n",
       "    </tr>\n",
       "    <tr>\n",
       "        <td>4</td>\n",
       "    </tr>\n",
       "</table>"
      ],
      "text/plain": [
       "[(4,)]"
      ]
     },
     "execution_count": 17,
     "metadata": {},
     "output_type": "execute_result"
    }
   ],
   "source": [
    "%sql SELECT count(Rainfall) from RECORD where City='Cairo';"
   ]
  },
  {
   "cell_type": "code",
   "execution_count": 18,
   "metadata": {},
   "outputs": [
    {
     "name": "stdout",
     "output_type": "stream",
     "text": [
      " * sqlite://\n",
      "Done.\n"
     ]
    },
    {
     "data": {
      "text/html": [
       "<table>\n",
       "    <tr>\n",
       "        <th>Season</th>\n",
       "        <th>Rainfall</th>\n",
       "    </tr>\n",
       "    <tr>\n",
       "        <td>Fall</td>\n",
       "        <td>346.0</td>\n",
       "    </tr>\n",
       "    <tr>\n",
       "        <td>Spring</td>\n",
       "        <td>16.2</td>\n",
       "    </tr>\n",
       "    <tr>\n",
       "        <td>Summer</td>\n",
       "        <td>1549.4</td>\n",
       "    </tr>\n",
       "    <tr>\n",
       "        <td>Winter</td>\n",
       "        <td>5.9</td>\n",
       "    </tr>\n",
       "</table>"
      ],
      "text/plain": [
       "[('Fall', 346.0), ('Spring', 16.2), ('Summer', 1549.4), ('Winter', 5.9)]"
      ]
     },
     "execution_count": 18,
     "metadata": {},
     "output_type": "execute_result"
    }
   ],
   "source": [
    "%sql SELECT Season, Rainfall from RECORD group by Season;"
   ]
  },
  {
   "cell_type": "markdown",
   "metadata": {},
   "source": [
    "# Question 9\n",
    "Suppose list words is defined as follows:\n",
    "words = ['The', 'quick', 'brown', 'fox', 'jumps', 'over', 'the', 'lazy', 'dog']\n",
    "\n",
    "Write list comprehension expressions that use list words and generate the following lists:\n",
    "\n",
    "a) ['THE', 'QUICK', 'BROWN', 'FOX', 'JUMPS', 'OVER', 'THE', 'LAZY', 'DOG']\n",
    "\n",
    "b) ['the', 'quick', 'brown', 'fox', 'jumps', 'over', 'the', 'lazy', 'dog']\n",
    "\n",
    "c) [3, 5, 5, 3, 5, 4, 3, 4, 3] (the list of lengths of words in list words).\n",
    "\n",
    "d) [['THE', 'the', 3], ['QUICK', 'quick', 5], ['BROWN', 'brown', 5], ['FOX', 'fox', 3], ['JUMPS', 'jumps', 5], ['OVER', 'over',4], ['THE', 'the', 3], ['LAZY', 'lazy', 4], ['DOG', 'dog', 3]] (the list containing a list for every word of list words, where each list contains the word in uppercase and lowercase and the length of the word.)\n",
    "\n",
    "e) ['The', 'quick', 'brown', 'fox', 'jumps', 'over', 'the', 'lazy', 'dog'] (the list of words in list words containing 4 or more characters.)"
   ]
  },
  {
   "cell_type": "code",
   "execution_count": 19,
   "metadata": {},
   "outputs": [
    {
     "name": "stdout",
     "output_type": "stream",
     "text": [
      "['THE', 'QUICK', 'BROWN', 'FOX', 'JUMPS', 'OVER', 'THE', 'LAZY', 'DOG']\n",
      "\n",
      "['the', 'quick', 'brown', 'fox', 'jumps', 'over', 'the', 'lazy', 'dog']\n",
      "\n",
      "[3, 5, 5, 3, 5, 4, 3, 4, 3]\n",
      "\n",
      "[['THE', 'the', 3], ['QUICK', 'quick', 5], ['BROWN', 'brown', 5], ['FOX', 'fox', 3], ['JUMPS', 'jumps', 5], ['OVER', 'over', 4], ['THE', 'the', 3], ['LAZY', 'lazy', 4], ['DOG', 'dog', 3]]\n",
      "\n",
      "['quick', 'brown', 'jumps', 'over', 'lazy']\n"
     ]
    }
   ],
   "source": [
    "words = ['The', 'quick', 'brown', 'fox', 'jumps', 'over', 'the', 'lazy', 'dog']\n",
    "word1 = [i.upper() for i in words]           #a\n",
    "word2 = [i.lower() for i in words]           #b \n",
    "word3 = [len(i) for i in words]               #c\n",
    "word4 = [[i.upper(),i.lower(),len(i)] for i in words]   #d\n",
    "word5 = [i.lower() for i in words if len(i)>=4]         #e\n",
    "print(word1)\n",
    "print()\n",
    "print(word2)\n",
    "print()\n",
    "print(word3)\n",
    "print()\n",
    "print(word4)\n",
    "print()\n",
    "print(word5)"
   ]
  },
  {
   "cell_type": "code",
   "execution_count": null,
   "metadata": {},
   "outputs": [],
   "source": []
  }
 ],
 "metadata": {
  "kernelspec": {
   "display_name": "Python 3",
   "language": "python",
   "name": "python3"
  },
  "language_info": {
   "codemirror_mode": {
    "name": "ipython",
    "version": 3
   },
   "file_extension": ".py",
   "mimetype": "text/x-python",
   "name": "python",
   "nbconvert_exporter": "python",
   "pygments_lexer": "ipython3",
   "version": "3.8.5"
  }
 },
 "nbformat": 4,
 "nbformat_minor": 4
}
